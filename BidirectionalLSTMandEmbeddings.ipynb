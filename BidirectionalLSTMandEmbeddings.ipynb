{
 "cells": [
  {
   "cell_type": "markdown",
   "metadata": {
    "id": "TIfstMDd7ykh"
   },
   "source": [
    "Syntactic and Lexical Features for Sentiment Analysis      "
   ]
  },
  {
   "cell_type": "code",
   "execution_count": 1,
   "metadata": {
    "colab": {
     "base_uri": "https://localhost:8080/"
    },
    "id": "SMjqTU6kx0d9",
    "outputId": "c655ab34-a77f-4561-eaa8-a22718f1c009"
   },
   "outputs": [
    {
     "name": "stdout",
     "output_type": "stream",
     "text": [
      "Drive already mounted at /content/drive; to attempt to forcibly remount, call drive.mount(\"/content/drive\", force_remount=True).\n"
     ]
    }
   ],
   "source": [
    "# Mount your google drive in google colab\n",
    "from google.colab import drive\n",
    "drive.mount('/content/drive')"
   ]
  },
  {
   "cell_type": "markdown",
   "metadata": {
    "id": "Q_gwU8tj7lov"
   },
   "source": [
    "# 0. Import Dependencies and Data"
   ]
  },
  {
   "cell_type": "code",
   "execution_count": 2,
   "metadata": {
    "id": "PYIloIrF-6cK"
   },
   "outputs": [],
   "source": [
    "#Working away Colab\n",
    "\n",
    "\n",
    "# !pip install tensorflow tensorflow-gpu pandas matplotlib sklearn\n",
    "\n",
    "# import os\n",
    "# import pandas as pd\n",
    "# import tensorflow as tf\n",
    "# import numpy as np"
   ]
  },
  {
   "cell_type": "code",
   "execution_count": 3,
   "metadata": {
    "id": "3iDlsvqC7qBe"
   },
   "outputs": [],
   "source": [
    "import pandas as pd"
   ]
  },
  {
   "cell_type": "code",
   "execution_count": 4,
   "metadata": {
    "colab": {
     "base_uri": "https://localhost:8080/"
    },
    "id": "brZUwxim82bk",
    "outputId": "5eadeba0-6335-41ab-b014-916ae2326c6b"
   },
   "outputs": [
    {
     "name": "stdout",
     "output_type": "stream",
     "text": [
      "(5886, 3) \n",
      " (857, 3)\n"
     ]
    }
   ],
   "source": [
    "#import train and test splits\n",
    "\n",
    "df_train = pd.read_csv(\"/content/drive/MyDrive/SLF4SA/tass2020_emotion_train.csv\")\n",
    "df_valid = pd.read_csv(\"/content/drive/MyDrive/SLF4SA/tass2020_emotion_dev.csv\")\n",
    "\n",
    "print(df_train.shape, \"\\n\", df_valid.shape)"
   ]
  },
  {
   "cell_type": "code",
   "execution_count": 5,
   "metadata": {
    "colab": {
     "base_uri": "https://localhost:8080/",
     "height": 206
    },
    "id": "sG9I5WF8Xhyc",
    "outputId": "fa339355-3f16-48ce-be14-2472ad0d14d5"
   },
   "outputs": [
    {
     "data": {
      "text/html": [
       "\n",
       "  <div id=\"df-5e038749-6bff-4008-8e57-53e6749b20bc\">\n",
       "    <div class=\"colab-df-container\">\n",
       "      <div>\n",
       "<style scoped>\n",
       "    .dataframe tbody tr th:only-of-type {\n",
       "        vertical-align: middle;\n",
       "    }\n",
       "\n",
       "    .dataframe tbody tr th {\n",
       "        vertical-align: top;\n",
       "    }\n",
       "\n",
       "    .dataframe thead th {\n",
       "        text-align: right;\n",
       "    }\n",
       "</style>\n",
       "<table border=\"1\" class=\"dataframe\">\n",
       "  <thead>\n",
       "    <tr style=\"text-align: right;\">\n",
       "      <th></th>\n",
       "      <th>id</th>\n",
       "      <th>tweet</th>\n",
       "      <th>label</th>\n",
       "    </tr>\n",
       "  </thead>\n",
       "  <tbody>\n",
       "    <tr>\n",
       "      <th>0</th>\n",
       "      <td>1</td>\n",
       "      <td>El Atlético resignado a perder HASHTAG 😔  http...</td>\n",
       "      <td>sadness</td>\n",
       "    </tr>\n",
       "    <tr>\n",
       "      <th>1</th>\n",
       "      <td>2</td>\n",
       "      <td>Leer proporciona una mejor visión del mundo 🤓 ...</td>\n",
       "      <td>joy</td>\n",
       "    </tr>\n",
       "    <tr>\n",
       "      <th>2</th>\n",
       "      <td>3</td>\n",
       "      <td>Amo a Arya Stark por encima de todas las cosas...</td>\n",
       "      <td>joy</td>\n",
       "    </tr>\n",
       "    <tr>\n",
       "      <th>3</th>\n",
       "      <td>4</td>\n",
       "      <td>Gracias HASHTAG es increíble que una niña logr...</td>\n",
       "      <td>others</td>\n",
       "    </tr>\n",
       "    <tr>\n",
       "      <th>4</th>\n",
       "      <td>5</td>\n",
       "      <td>Solo siento que hayamos perdido 24 escaños de ...</td>\n",
       "      <td>sadness</td>\n",
       "    </tr>\n",
       "  </tbody>\n",
       "</table>\n",
       "</div>\n",
       "      <button class=\"colab-df-convert\" onclick=\"convertToInteractive('df-5e038749-6bff-4008-8e57-53e6749b20bc')\"\n",
       "              title=\"Convert this dataframe to an interactive table.\"\n",
       "              style=\"display:none;\">\n",
       "        \n",
       "  <svg xmlns=\"http://www.w3.org/2000/svg\" height=\"24px\"viewBox=\"0 0 24 24\"\n",
       "       width=\"24px\">\n",
       "    <path d=\"M0 0h24v24H0V0z\" fill=\"none\"/>\n",
       "    <path d=\"M18.56 5.44l.94 2.06.94-2.06 2.06-.94-2.06-.94-.94-2.06-.94 2.06-2.06.94zm-11 1L8.5 8.5l.94-2.06 2.06-.94-2.06-.94L8.5 2.5l-.94 2.06-2.06.94zm10 10l.94 2.06.94-2.06 2.06-.94-2.06-.94-.94-2.06-.94 2.06-2.06.94z\"/><path d=\"M17.41 7.96l-1.37-1.37c-.4-.4-.92-.59-1.43-.59-.52 0-1.04.2-1.43.59L10.3 9.45l-7.72 7.72c-.78.78-.78 2.05 0 2.83L4 21.41c.39.39.9.59 1.41.59.51 0 1.02-.2 1.41-.59l7.78-7.78 2.81-2.81c.8-.78.8-2.07 0-2.86zM5.41 20L4 18.59l7.72-7.72 1.47 1.35L5.41 20z\"/>\n",
       "  </svg>\n",
       "      </button>\n",
       "      \n",
       "  <style>\n",
       "    .colab-df-container {\n",
       "      display:flex;\n",
       "      flex-wrap:wrap;\n",
       "      gap: 12px;\n",
       "    }\n",
       "\n",
       "    .colab-df-convert {\n",
       "      background-color: #E8F0FE;\n",
       "      border: none;\n",
       "      border-radius: 50%;\n",
       "      cursor: pointer;\n",
       "      display: none;\n",
       "      fill: #1967D2;\n",
       "      height: 32px;\n",
       "      padding: 0 0 0 0;\n",
       "      width: 32px;\n",
       "    }\n",
       "\n",
       "    .colab-df-convert:hover {\n",
       "      background-color: #E2EBFA;\n",
       "      box-shadow: 0px 1px 2px rgba(60, 64, 67, 0.3), 0px 1px 3px 1px rgba(60, 64, 67, 0.15);\n",
       "      fill: #174EA6;\n",
       "    }\n",
       "\n",
       "    [theme=dark] .colab-df-convert {\n",
       "      background-color: #3B4455;\n",
       "      fill: #D2E3FC;\n",
       "    }\n",
       "\n",
       "    [theme=dark] .colab-df-convert:hover {\n",
       "      background-color: #434B5C;\n",
       "      box-shadow: 0px 1px 3px 1px rgba(0, 0, 0, 0.15);\n",
       "      filter: drop-shadow(0px 1px 2px rgba(0, 0, 0, 0.3));\n",
       "      fill: #FFFFFF;\n",
       "    }\n",
       "  </style>\n",
       "\n",
       "      <script>\n",
       "        const buttonEl =\n",
       "          document.querySelector('#df-5e038749-6bff-4008-8e57-53e6749b20bc button.colab-df-convert');\n",
       "        buttonEl.style.display =\n",
       "          google.colab.kernel.accessAllowed ? 'block' : 'none';\n",
       "\n",
       "        async function convertToInteractive(key) {\n",
       "          const element = document.querySelector('#df-5e038749-6bff-4008-8e57-53e6749b20bc');\n",
       "          const dataTable =\n",
       "            await google.colab.kernel.invokeFunction('convertToInteractive',\n",
       "                                                     [key], {});\n",
       "          if (!dataTable) return;\n",
       "\n",
       "          const docLinkHtml = 'Like what you see? Visit the ' +\n",
       "            '<a target=\"_blank\" href=https://colab.research.google.com/notebooks/data_table.ipynb>data table notebook</a>'\n",
       "            + ' to learn more about interactive tables.';\n",
       "          element.innerHTML = '';\n",
       "          dataTable['output_type'] = 'display_data';\n",
       "          await google.colab.output.renderOutput(dataTable, element);\n",
       "          const docLink = document.createElement('div');\n",
       "          docLink.innerHTML = docLinkHtml;\n",
       "          element.appendChild(docLink);\n",
       "        }\n",
       "      </script>\n",
       "    </div>\n",
       "  </div>\n",
       "  "
      ],
      "text/plain": [
       "   id                                              tweet     label\n",
       "0   1  El Atlético resignado a perder HASHTAG 😔  http...  sadness \n",
       "1   2  Leer proporciona una mejor visión del mundo 🤓 ...      joy \n",
       "2   3  Amo a Arya Stark por encima de todas las cosas...      joy \n",
       "3   4  Gracias HASHTAG es increíble que una niña logr...    others\n",
       "4   5  Solo siento que hayamos perdido 24 escaños de ...  sadness "
      ]
     },
     "execution_count": 5,
     "metadata": {},
     "output_type": "execute_result"
    }
   ],
   "source": [
    "df_train.head(5)"
   ]
  },
  {
   "cell_type": "code",
   "execution_count": 6,
   "metadata": {
    "colab": {
     "base_uri": "https://localhost:8080/"
    },
    "id": "98amwJlAYJMW",
    "outputId": "2bbd77a8-a8f4-42bb-961d-274674f1b3b5"
   },
   "outputs": [
    {
     "data": {
      "text/plain": [
       "others       2888\n",
       "joy          1270\n",
       "sadness       706\n",
       "anger         600\n",
       "surprise      241\n",
       "disgust       113\n",
       "fear           67\n",
       "others          1\n",
       "Name: label, dtype: int64"
      ]
     },
     "execution_count": 6,
     "metadata": {},
     "output_type": "execute_result"
    }
   ],
   "source": [
    "#Classs distribution\n",
    "\n",
    "df_train['label'].value_counts()"
   ]
  },
  {
   "cell_type": "code",
   "execution_count": 7,
   "metadata": {
    "colab": {
     "base_uri": "https://localhost:8080/"
    },
    "id": "LVZzn05zf6XO",
    "outputId": "75ee300e-6c13-4624-9690-f41a9b156e7e"
   },
   "outputs": [
    {
     "name": "stdout",
     "output_type": "stream",
     "text": [
      "<class 'pandas.core.frame.DataFrame'>\n",
      "RangeIndex: 5886 entries, 0 to 5885\n",
      "Data columns (total 3 columns):\n",
      " #   Column  Non-Null Count  Dtype \n",
      "---  ------  --------------  ----- \n",
      " 0   id      5886 non-null   int64 \n",
      " 1   tweet   5886 non-null   object\n",
      " 2   label   5886 non-null   object\n",
      "dtypes: int64(1), object(2)\n",
      "memory usage: 138.1+ KB\n"
     ]
    }
   ],
   "source": [
    "df_train.info()"
   ]
  },
  {
   "cell_type": "markdown",
   "metadata": {
    "id": "vLfX_kuFnU2W"
   },
   "source": [
    "# 1. Data Preprocessing"
   ]
  },
  {
   "cell_type": "code",
   "execution_count": 8,
   "metadata": {
    "id": "l3K_MgvZhako"
   },
   "outputs": [],
   "source": [
    "import re\n",
    "from sklearn.preprocessing import LabelEncoder"
   ]
  },
  {
   "cell_type": "code",
   "execution_count": 9,
   "metadata": {
    "colab": {
     "base_uri": "https://localhost:8080/"
    },
    "id": "OHeUfSpbmqgB",
    "outputId": "4efe49d7-8be9-4bf6-a906-93213db4da0e"
   },
   "outputs": [
    {
     "name": "stdout",
     "output_type": "stream",
     "text": [
      "Requirement already satisfied: clean-text in /usr/local/lib/python3.7/dist-packages (0.6.0)\n",
      "Requirement already satisfied: emoji<2.0.0,>=1.0.0 in /usr/local/lib/python3.7/dist-packages (from clean-text) (1.7.0)\n",
      "Requirement already satisfied: ftfy<7.0,>=6.0 in /usr/local/lib/python3.7/dist-packages (from clean-text) (6.1.1)\n",
      "Requirement already satisfied: wcwidth>=0.2.5 in /usr/local/lib/python3.7/dist-packages (from ftfy<7.0,>=6.0->clean-text) (0.2.5)\n"
     ]
    }
   ],
   "source": [
    "!pip install clean-text"
   ]
  },
  {
   "cell_type": "code",
   "execution_count": 10,
   "metadata": {
    "colab": {
     "base_uri": "https://localhost:8080/"
    },
    "id": "49oe486AmtAr",
    "outputId": "2ccc7a66-5aa3-4249-a945-c87f4f77f90f"
   },
   "outputs": [
    {
     "name": "stderr",
     "output_type": "stream",
     "text": [
      "Since the GPL-licensed package `unidecode` is not installed, using Python's `unicodedata` package which yields worse results.\n"
     ]
    }
   ],
   "source": [
    "from cleantext import clean"
   ]
  },
  {
   "cell_type": "code",
   "execution_count": 11,
   "metadata": {
    "id": "bx5NVnCThCVZ"
   },
   "outputs": [],
   "source": [
    "#Preprocessing functions\n",
    "\n",
    "def remove_links(tweet):\n",
    "    \"\"\"Takes a string and removes web links from it\"\"\"\n",
    "    tweet = re.sub(r'http\\S+', '', tweet)   # remove http links\n",
    "    tweet = re.sub(r'bit.ly/\\S+', '', tweet)  # remove bitly links\n",
    "    tweet = tweet.strip('[link]')   # remove [links]\n",
    "    tweet = re.sub(r'pic.twitter\\S+','', tweet)\n",
    "    return tweet\n",
    "\n",
    "def remove_users(tweet):\n",
    "    \"\"\"Takes a string and removes retweet and @user information\"\"\"\n",
    "    tweet = re.sub('(RT\\s@[A-Za-z]+[A-Za-z0-9-_]+)', '', tweet)  # remove re-tweet\n",
    "    tweet = re.sub('(@[A-Za-z]+[A-Za-z0-9-_]+)', '', tweet)  # remove tweeted at\n",
    "    return tweet\n",
    "\n",
    "def remove_hashtags(tweet):\n",
    "    \"\"\"Takes a string and removes any hash tags\"\"\"\n",
    "    tweet = re.sub('(#[A-Za-z]+[A-Za-z0-9-_]+)', '', tweet)  # remove hash tags\n",
    "    return tweet\n",
    "\n",
    "def remove_av(tweet):\n",
    "    \"\"\"Takes a string and removes AUDIO/VIDEO tags or labels\"\"\"\n",
    "    tweet = re.sub('VIDEO:', '', tweet)  # remove 'VIDEO:' from start of tweet\n",
    "    tweet = re.sub('AUDIO:', '', tweet)  # remove 'AUDIO:' from start of tweet\n",
    "    return tweet\n",
    "\n",
    "def remove_emoji(tweet):\n",
    "    \"\"\"Remove emojis\"\"\"\n",
    "    tweet = clean(tweet, no_emoji=True)\n",
    "    return tweet\n",
    "\n",
    "def preprocessing(text):\n",
    "    text = remove_links(text)\n",
    "    text = remove_users(text)\n",
    "    text = remove_hashtags(text)\n",
    "    text = remove_av(text)\n",
    "    text = remove_emoji(text)\n",
    "    return text"
   ]
  },
  {
   "cell_type": "code",
   "execution_count": 12,
   "metadata": {
    "id": "egzLKfqchNtK"
   },
   "outputs": [],
   "source": [
    "df_train_prep = df_train.copy()\n",
    "df_valid_prep = df_valid.copy()"
   ]
  },
  {
   "cell_type": "code",
   "execution_count": 13,
   "metadata": {
    "colab": {
     "base_uri": "https://localhost:8080/"
    },
    "id": "aM0rFEy65dNn",
    "outputId": "f9bb5400-1d2c-44ee-e074-fdf73ba5fcdc"
   },
   "outputs": [
    {
     "data": {
      "text/plain": [
       "Index(['others ', 'joy ', 'sadness ', 'anger ', 'surprise ', 'disgust ',\n",
       "       'fear ', 'others'],\n",
       "      dtype='object')"
      ]
     },
     "execution_count": 13,
     "metadata": {},
     "output_type": "execute_result"
    }
   ],
   "source": [
    "df_train_prep['label'].value_counts().index"
   ]
  },
  {
   "cell_type": "code",
   "execution_count": 14,
   "metadata": {
    "colab": {
     "base_uri": "https://localhost:8080/"
    },
    "id": "LXWQESEk5MD5",
    "outputId": "85870bc4-d915-4d6d-bde7-d82c40467a9e"
   },
   "outputs": [
    {
     "data": {
      "text/plain": [
       "Index(['others ', 'joy ', 'sadness ', 'anger ', 'surprise ', 'disgust ',\n",
       "       'fear '],\n",
       "      dtype='object')"
      ]
     },
     "execution_count": 14,
     "metadata": {},
     "output_type": "execute_result"
    }
   ],
   "source": [
    "#delete the row that contains only a single value for a class\n",
    "\n",
    "df_train_prep = df_train_prep[df_train_prep.label != 'others']\n",
    "df_train_prep['label'].value_counts().index"
   ]
  },
  {
   "cell_type": "code",
   "execution_count": 15,
   "metadata": {
    "id": "mT3zP6OKyC92"
   },
   "outputs": [],
   "source": [
    "df_train_prep['tweet'] = df_train_prep['tweet'].apply(preprocessing)\n",
    "df_valid_prep['tweet'] = df_valid_prep['tweet'].apply(preprocessing)"
   ]
  },
  {
   "cell_type": "markdown",
   "metadata": {
    "id": "Dd_HMsOdNEOC"
   },
   "source": [
    "## 1.1 Encode the output variable"
   ]
  },
  {
   "cell_type": "code",
   "execution_count": 16,
   "metadata": {
    "id": "aIyvGHZt8eZ1"
   },
   "outputs": [],
   "source": [
    "# df_train_prep['label'].value_counts()"
   ]
  },
  {
   "cell_type": "code",
   "execution_count": 17,
   "metadata": {
    "id": "mNaEBC7h0A2D"
   },
   "outputs": [],
   "source": [
    "# yle = LabelEncoder()\n",
    "\n",
    "# #Encode train split\n",
    "# df_train_prep['label'] = yle.fit_transform(df_train_prep['label'])\n",
    "\n",
    "# df_train_prep['label'].value_counts()"
   ]
  },
  {
   "cell_type": "code",
   "execution_count": 18,
   "metadata": {
    "id": "AqQE5r2u7wT7"
   },
   "outputs": [],
   "source": [
    "# df_valid_prep['label'].value_counts()"
   ]
  },
  {
   "cell_type": "code",
   "execution_count": 19,
   "metadata": {
    "id": "Bcia5kEy79q7"
   },
   "outputs": [],
   "source": [
    "# #Encode test split\n",
    "\n",
    "# df_valid_prep['label'] = yle.fit_transform(df_valid_prep['label'])\n",
    "# df_valid_prep['label'].value_counts()"
   ]
  },
  {
   "cell_type": "code",
   "execution_count": 20,
   "metadata": {
    "colab": {
     "base_uri": "https://localhost:8080/"
    },
    "id": "Zz_mPnBR9Oxo",
    "outputId": "d3520240-c3df-4478-82d0-b576063fb9bc"
   },
   "outputs": [
    {
     "name": "stdout",
     "output_type": "stream",
     "text": [
      "(5885,) (5885,) (857,) (857,)\n"
     ]
    }
   ],
   "source": [
    "X_train = df_train_prep['tweet']\n",
    "y_train = df_train_prep['label']\n",
    "\n",
    "X_valid = df_valid_prep['tweet']\n",
    "y_valid = df_valid_prep['label']\n",
    "\n",
    "print(X_train.shape, y_train.shape, X_valid.shape, y_valid.shape)"
   ]
  },
  {
   "cell_type": "code",
   "execution_count": 21,
   "metadata": {
    "id": "sY97NNgxOSwM"
   },
   "outputs": [],
   "source": [
    "from keras.utils import np_utils"
   ]
  },
  {
   "cell_type": "code",
   "execution_count": 22,
   "metadata": {
    "colab": {
     "base_uri": "https://localhost:8080/"
    },
    "id": "ArRsaxaUN-LV",
    "outputId": "0a15834a-d318-4c54-cfc6-f591cebd56a3"
   },
   "outputs": [
    {
     "name": "stdout",
     "output_type": "stream",
     "text": [
      "(5885, 7) (857, 7)\n"
     ]
    }
   ],
   "source": [
    "# encode class values as integers\n",
    "encoder = LabelEncoder()\n",
    "\n",
    "#y_train\n",
    "encoder.fit(y_train)\n",
    "encoded_y_train = encoder.transform(y_train)\n",
    "# convert integers to dummy variables (i.e. one hot encoded)\n",
    "y_train = np_utils.to_categorical(encoded_y_train)\n",
    "\n",
    "#y_valid\n",
    "encoder.fit(y_valid)\n",
    "encoded_y_valid = encoder.transform(y_valid)\n",
    "# convert integers to dummy variables (i.e. one hot encoded)\n",
    "y_valid = np_utils.to_categorical(encoded_y_valid)\n",
    "\n",
    "print(y_train.shape, y_valid.shape)"
   ]
  },
  {
   "cell_type": "markdown",
   "metadata": {
    "id": "onKQryBdHGxQ"
   },
   "source": [
    "# 2. Feature Extraction"
   ]
  },
  {
   "cell_type": "markdown",
   "metadata": {
    "id": "AZYtA3QY9DJo"
   },
   "source": [
    "## 2.1 Vectorization"
   ]
  },
  {
   "cell_type": "code",
   "execution_count": 23,
   "metadata": {
    "id": "mSxkLuu884yF"
   },
   "outputs": [],
   "source": [
    "from tensorflow.keras.layers import TextVectorization"
   ]
  },
  {
   "cell_type": "code",
   "execution_count": 24,
   "metadata": {
    "id": "NaXFoqrk-IV5"
   },
   "outputs": [],
   "source": [
    "MAX_FEATURES = 200000 # number of words in the vocab"
   ]
  },
  {
   "cell_type": "code",
   "execution_count": 25,
   "metadata": {
    "id": "Mt2RYuS4-J8b"
   },
   "outputs": [],
   "source": [
    "vectorizer = TextVectorization(max_tokens=MAX_FEATURES,\n",
    "                               output_sequence_length=1800,\n",
    "                               output_mode='int')"
   ]
  },
  {
   "cell_type": "code",
   "execution_count": 26,
   "metadata": {
    "id": "brshNlIh-XtJ"
   },
   "outputs": [],
   "source": [
    "vectorizer.adapt(X_train.values)"
   ]
  },
  {
   "cell_type": "code",
   "execution_count": 27,
   "metadata": {
    "colab": {
     "base_uri": "https://localhost:8080/"
    },
    "id": "iFwCxxd5_FhK",
    "outputId": "1cb592e8-978f-46e7-cd6c-d88f515393f7"
   },
   "outputs": [
    {
     "data": {
      "text/plain": [
       "['',\n",
       " '[UNK]',\n",
       " 'hashtag',\n",
       " 'de',\n",
       " 'que',\n",
       " 'la',\n",
       " 'el',\n",
       " 'y',\n",
       " 'en',\n",
       " 'a',\n",
       " 'user',\n",
       " 'no',\n",
       " 'los',\n",
       " 'es',\n",
       " 'se',\n",
       " 'un',\n",
       " 'por',\n",
       " 'con',\n",
       " 'del',\n",
       " 'lo',\n",
       " 'para',\n",
       " 'una',\n",
       " 'las',\n",
       " 'al',\n",
       " 'me',\n",
       " 'mas',\n",
       " 'esta',\n",
       " 'como',\n",
       " 'su',\n",
       " 'si',\n",
       " 'hoy',\n",
       " 'pero',\n",
       " 'ha',\n",
       " 'mi',\n",
       " 'este',\n",
       " 'mejor',\n",
       " 'ya',\n",
       " 'ver',\n",
       " 'todo',\n",
       " 'dia',\n",
       " 'todos',\n",
       " 'nos',\n",
       " 'libro',\n",
       " 'hay',\n",
       " 'solo',\n",
       " 'capitulo',\n",
       " 'mundo',\n",
       " 'te',\n",
       " 'le',\n",
       " 'muy',\n",
       " 'o',\n",
       " 'anos',\n",
       " 'ser',\n",
       " 'messi',\n",
       " 'historia',\n",
       " 'gracias',\n",
       " 'sin',\n",
       " 'son',\n",
       " 'sus',\n",
       " 'cuando',\n",
       " 'he',\n",
       " 'contra',\n",
       " 'asi',\n",
       " 'ahora',\n",
       " 'incendio',\n",
       " 'porque',\n",
       " 'catedral',\n",
       " 'han',\n",
       " 'libros',\n",
       " 'hace',\n",
       " 'feliz',\n",
       " 'tu',\n",
       " 'yo',\n",
       " 'gente',\n",
       " 'esto',\n",
       " 'vez',\n",
       " 'desde',\n",
       " 'ni',\n",
       " 'sobre',\n",
       " 'puede',\n",
       " 'pais',\n",
       " 'va',\n",
       " 'espana',\n",
       " 'noche',\n",
       " 'tiene',\n",
       " 'triste',\n",
       " 'bien',\n",
       " 'pueblo',\n",
       " 'perdida',\n",
       " 'nada',\n",
       " 'pena',\n",
       " 'estoy',\n",
       " 'final',\n",
       " 'fue',\n",
       " 'siempre',\n",
       " 'quien',\n",
       " 'estan',\n",
       " 'barcelona',\n",
       " 'da',\n",
       " 'les',\n",
       " 'gran',\n",
       " 'vida',\n",
       " 'tan',\n",
       " 'hacer',\n",
       " 'gol',\n",
       " 'bueno',\n",
       " 'campeon',\n",
       " 'mucho',\n",
       " 'mis',\n",
       " 'leer',\n",
       " 'despues',\n",
       " 'tiempo',\n",
       " 'eso',\n",
       " 'maduro',\n",
       " 'puta',\n",
       " 'nuestra',\n",
       " '10',\n",
       " 'uno',\n",
       " 'sera',\n",
       " 'nuestro',\n",
       " 'juego',\n",
       " 'estado',\n",
       " 'entre',\n",
       " 'aqui',\n",
       " 'dos',\n",
       " 'serie',\n",
       " 'notre',\n",
       " 'dame',\n",
       " 'sido',\n",
       " 'cambio',\n",
       " 'menos',\n",
       " 'venezuela',\n",
       " 'ante',\n",
       " 'mal',\n",
       " 'futbol',\n",
       " 'tambien',\n",
       " 'momento',\n",
       " 'dios',\n",
       " 'toda',\n",
       " 'os',\n",
       " 'hasta',\n",
       " 'golpe',\n",
       " 'barca',\n",
       " 'decir',\n",
       " 'vamos',\n",
       " 'algo',\n",
       " 'paris',\n",
       " 'tanto',\n",
       " 'q',\n",
       " 'favor',\n",
       " 'ese',\n",
       " 'e',\n",
       " 'otra',\n",
       " 'nunca',\n",
       " 'episodio',\n",
       " 'puedo',\n",
       " 'donde',\n",
       " 'cada',\n",
       " 'tras',\n",
       " 'humanidad',\n",
       " 'visto',\n",
       " 'tengo',\n",
       " 'quiero',\n",
       " 'parece',\n",
       " 'manana',\n",
       " 'liverpool',\n",
       " 'estos',\n",
       " 'mierda',\n",
       " 'lectura',\n",
       " 'falta',\n",
       " '3',\n",
       " 'sea',\n",
       " 'dice',\n",
       " 'climatico',\n",
       " 'otro',\n",
       " 'liga',\n",
       " 'estamos',\n",
       " 'poder',\n",
       " 'personas',\n",
       " 'libre',\n",
       " 'era',\n",
       " 'elecciones',\n",
       " 'tristeza',\n",
       " 'tragedia',\n",
       " 'van',\n",
       " 'pues',\n",
       " 'nadie',\n",
       " 'hora',\n",
       " 'equipo',\n",
       " 'presidente',\n",
       " 'estas',\n",
       " 'cosas',\n",
       " 'buen',\n",
       " 'verdad',\n",
       " 'todas',\n",
       " 'mejores',\n",
       " 'dias',\n",
       " 'cual',\n",
       " 'claro',\n",
       " 'aun',\n",
       " 'voy',\n",
       " 'derecha',\n",
       " 'via',\n",
       " 'poco',\n",
       " 'nuevo',\n",
       " 'izquierda',\n",
       " 'haya',\n",
       " 'gobierno',\n",
       " 'planeta',\n",
       " 'pasado',\n",
       " 'esa',\n",
       " 'creo',\n",
       " 'ano',\n",
       " '16',\n",
       " 'vox',\n",
       " 'tronos',\n",
       " 'ellos',\n",
       " 'ayer',\n",
       " 'mientras',\n",
       " 'hemos',\n",
       " 'batalla',\n",
       " 'unos',\n",
       " 'muchos',\n",
       " 'miedo',\n",
       " 'hecho',\n",
       " 'estar',\n",
       " 'arya',\n",
       " '30',\n",
       " 'tener',\n",
       " 'temporada',\n",
       " 'mismo',\n",
       " 'podemos',\n",
       " 'paz',\n",
       " 'minutos',\n",
       " 'resultados',\n",
       " 'madre',\n",
       " 'lucha',\n",
       " 'apoyo',\n",
       " 'titulo',\n",
       " 'resultado',\n",
       " 'estaba',\n",
       " 'casa',\n",
       " 'queda',\n",
       " 'alguien',\n",
       " '11',\n",
       " 'joder',\n",
       " 'horas',\n",
       " 'futuro',\n",
       " 'fin',\n",
       " 'vaya',\n",
       " 'rey',\n",
       " 'quiere',\n",
       " 'palabras',\n",
       " 'gusta',\n",
       " 'foto',\n",
       " 'soy',\n",
       " 'antes',\n",
       " 'tenemos',\n",
       " 'siento',\n",
       " 'saber',\n",
       " 'nuestros',\n",
       " 'mundial',\n",
       " 'llamas',\n",
       " 'levante',\n",
       " 'igual',\n",
       " 'frente',\n",
       " 'buena',\n",
       " 'amo',\n",
       " '8',\n",
       " 'unico',\n",
       " 'sueca',\n",
       " 'sigue',\n",
       " 'ninos',\n",
       " 'militares',\n",
       " 'perdido',\n",
       " 'patrimonio',\n",
       " 'otros',\n",
       " 'millones',\n",
       " 'haber',\n",
       " 'espero',\n",
       " 'activista',\n",
       " 'senor',\n",
       " 'psoe',\n",
       " 'pensar',\n",
       " 'medio',\n",
       " 'leo',\n",
       " 'ir',\n",
       " 'grande',\n",
       " 'algunos',\n",
       " 'venezolanos',\n",
       " 'puto',\n",
       " 'ojala',\n",
       " 'fuego',\n",
       " 'ahi',\n",
       " 'muchas',\n",
       " 'jovenes',\n",
       " 'gana',\n",
       " 'aunque',\n",
       " 'veces',\n",
       " 'tienen',\n",
       " 'situacion',\n",
       " 'seguir',\n",
       " 'primera',\n",
       " 'paso',\n",
       " 'llorar',\n",
       " 'joven',\n",
       " 'fuerza',\n",
       " 'ella',\n",
       " 'dar',\n",
       " 'amor',\n",
       " 'acabo',\n",
       " '2',\n",
       " 'viendo',\n",
       " 'pp',\n",
       " 'ganar',\n",
       " 'francia',\n",
       " 'espanol',\n",
       " 'cultura',\n",
       " 'ciudadanos',\n",
       " '8x03',\n",
       " 'ustedes',\n",
       " 'sino',\n",
       " 'pasa',\n",
       " 'forma',\n",
       " 'escanos',\n",
       " 'durante',\n",
       " 've',\n",
       " 'pasar',\n",
       " 'odio',\n",
       " 'mano',\n",
       " 'madrid',\n",
       " 'llora',\n",
       " 'internacional',\n",
       " 'increible',\n",
       " 'fotos',\n",
       " 'favorito',\n",
       " 'duda',\n",
       " 'debe',\n",
       " 'cuenta',\n",
       " 'tiro',\n",
       " 'tarde',\n",
       " 'nina',\n",
       " 'mucha',\n",
       " 'hijos',\n",
       " 'hacen',\n",
       " 'guerra',\n",
       " 'corazon',\n",
       " 'casi',\n",
       " '0',\n",
       " 'ultimo',\n",
       " 'terrible',\n",
       " 'tanta',\n",
       " 'semana',\n",
       " 'segundo',\n",
       " 'quienes',\n",
       " 'nosotros',\n",
       " 'jugador',\n",
       " 'goles',\n",
       " 'golazo',\n",
       " 'favoritos',\n",
       " 'eres',\n",
       " 'dentro',\n",
       " 'cultural',\n",
       " 'brutal',\n",
       " 'tenia',\n",
       " 'quieren',\n",
       " 'politica',\n",
       " 'persona',\n",
       " 'peor',\n",
       " 'lugar',\n",
       " 'imagenes',\n",
       " 'hizo',\n",
       " 'disfrutar',\n",
       " 'dejar',\n",
       " 'dando',\n",
       " '1',\n",
       " 'somos',\n",
       " 'pueden',\n",
       " 'perder',\n",
       " 'momentos',\n",
       " 'iglesia',\n",
       " 'haciendo',\n",
       " 'cosa',\n",
       " 'buenos',\n",
       " 'tus',\n",
       " 'semifinal',\n",
       " 'regimen',\n",
       " 'real',\n",
       " 'queremos',\n",
       " 'movimiento',\n",
       " 'mensaje',\n",
       " 'grandes',\n",
       " 'electoral',\n",
       " 'votar',\n",
       " 'ultima',\n",
       " 'quedado',\n",
       " 'primer',\n",
       " 'fuera',\n",
       " 'europa',\n",
       " 'esos',\n",
       " 'democracia',\n",
       " 'dan',\n",
       " '00',\n",
       " 'venezolano',\n",
       " 'tres',\n",
       " 'tercer',\n",
       " 'suarez',\n",
       " 'spoilers',\n",
       " 'rivera',\n",
       " 'podria',\n",
       " 'manera',\n",
       " 'lamentable',\n",
       " 'ida',\n",
       " 'hombre',\n",
       " 'esperanza',\n",
       " 'calle',\n",
       " 'asco',\n",
       " 'alma',\n",
       " '5',\n",
       " '15',\n",
       " 'votado',\n",
       " 'viva',\n",
       " 'viernes',\n",
       " 'verguenza',\n",
       " 'simbolo',\n",
       " 'salir',\n",
       " 'pronto',\n",
       " 'medios',\n",
       " 'llegar',\n",
       " 'ganado',\n",
       " 'dificil',\n",
       " 'celebrar',\n",
       " 'amigos',\n",
       " '2019',\n",
       " 'voto',\n",
       " 'volver',\n",
       " 'violencia',\n",
       " 'viene',\n",
       " 'serio',\n",
       " 'salvar',\n",
       " 'posible',\n",
       " 'poner',\n",
       " 'orgullosa',\n",
       " 'ojos',\n",
       " 'ningun',\n",
       " 'jugar',\n",
       " 'guaido',\n",
       " 'ganas',\n",
       " 'frances',\n",
       " 'enhorabuena',\n",
       " 'embajada',\n",
       " 'dinero',\n",
       " 'deja',\n",
       " 'cualquier',\n",
       " '4',\n",
       " 'seguro',\n",
       " 'sanchez',\n",
       " 'pasando',\n",
       " 'numero',\n",
       " 'militar',\n",
       " 'listo',\n",
       " 'juega',\n",
       " 'espanoles',\n",
       " 'digo',\n",
       " 'derecho',\n",
       " 'casado',\n",
       " 'campeones',\n",
       " 'buenas',\n",
       " 'vs',\n",
       " 'video',\n",
       " 'veo',\n",
       " 'ultimos',\n",
       " 'todavia',\n",
       " 'spoiler',\n",
       " 'seria',\n",
       " 'sabe',\n",
       " 'regalo',\n",
       " 'realidad',\n",
       " 'nivel',\n",
       " 'mayoria',\n",
       " 'lunes',\n",
       " 'luego',\n",
       " 'llega',\n",
       " 'leyendo',\n",
       " 'jornada',\n",
       " 'impresionante',\n",
       " 'imposible',\n",
       " 'enorme',\n",
       " 'chile',\n",
       " 'caso',\n",
       " 'arquitectura',\n",
       " 'alguna',\n",
       " 'victoria',\n",
       " 'tension',\n",
       " 'tantos',\n",
       " 'siglos',\n",
       " 'siendo',\n",
       " 'otras',\n",
       " 'obra',\n",
       " 'morir',\n",
       " 'merece',\n",
       " 'lee',\n",
       " 'lado',\n",
       " 'intento',\n",
       " 'hijo',\n",
       " 'hacia',\n",
       " 'dolor',\n",
       " 'dano',\n",
       " 'cago',\n",
       " 'acaba',\n",
       " 'abril',\n",
       " '26',\n",
       " 'vuelta',\n",
       " 'vivir',\n",
       " 'trabajo',\n",
       " 'primero',\n",
       " 'personajes',\n",
       " 'noticia',\n",
       " 'nacional',\n",
       " 'misma',\n",
       " 'mira',\n",
       " 'lleva',\n",
       " 'joya',\n",
       " 'hermoso',\n",
       " 'habra',\n",
       " 'hablar',\n",
       " 'grupo',\n",
       " 'franceses',\n",
       " 'fe',\n",
       " 'esas',\n",
       " 'ejemplo',\n",
       " 'dejo',\n",
       " 'crisis',\n",
       " 'unas',\n",
       " 'terminar',\n",
       " 'tenido',\n",
       " 'tal',\n",
       " 'sean',\n",
       " 'revolucion',\n",
       " 'politicos',\n",
       " 'podido',\n",
       " 'pie',\n",
       " 'pase',\n",
       " 'paises',\n",
       " 'orgulloso',\n",
       " 'nuestras',\n",
       " 'noticias',\n",
       " 'nervios',\n",
       " 'mil',\n",
       " 'huelga',\n",
       " 'fueron',\n",
       " 'felicidades',\n",
       " 'especial',\n",
       " 'escuchar',\n",
       " 'dictador',\n",
       " 'dicen',\n",
       " 'cuanto',\n",
       " 'congreso',\n",
       " '24',\n",
       " 'vi',\n",
       " 'vale',\n",
       " 'unica',\n",
       " 'tiempos',\n",
       " 'thunberg',\n",
       " 'tema',\n",
       " 'sentido',\n",
       " 'recuerdo',\n",
       " 'reconstruir',\n",
       " 'quedo',\n",
       " 'pablo',\n",
       " 'nobel',\n",
       " 'mia',\n",
       " 'manifestantes',\n",
       " 'llevo',\n",
       " 'lionel',\n",
       " 'lamento',\n",
       " 'jamas',\n",
       " 'imagen',\n",
       " 'historico',\n",
       " 'historias',\n",
       " 'greta',\n",
       " 'familia',\n",
       " 'entiendo',\n",
       " 'entero',\n",
       " 'entender',\n",
       " 'encima',\n",
       " 'datos',\n",
       " 'creer',\n",
       " 'cerca',\n",
       " 'cara',\n",
       " 'camp',\n",
       " 'bomberos',\n",
       " 'animo',\n",
       " 'algun',\n",
       " '600',\n",
       " 'vivo',\n",
       " 'twitter',\n",
       " 'television',\n",
       " 'sociedad',\n",
       " 'sangre',\n",
       " 'realmente',\n",
       " 'nou',\n",
       " 'mayo',\n",
       " 'habia',\n",
       " 'global',\n",
       " 'gano',\n",
       " 'felicidad',\n",
       " 'evitar',\n",
       " 'estructura',\n",
       " 'discurso',\n",
       " 'detalles',\n",
       " 'ciudad',\n",
       " 'biblioteca',\n",
       " 'votos',\n",
       " 'trump',\n",
       " 'temporadas',\n",
       " 'sufriendo',\n",
       " 'sentir',\n",
       " 'punto',\n",
       " 'problema',\n",
       " 'pesar',\n",
       " 'perdiendo',\n",
       " 'patria',\n",
       " 'nominada',\n",
       " 'manos',\n",
       " 'luz',\n",
       " 'literatura',\n",
       " 'leido',\n",
       " 'invernalia',\n",
       " 'guerras',\n",
       " 'facil',\n",
       " 'esperar',\n",
       " 'espanola',\n",
       " 'entrar',\n",
       " 'dormir',\n",
       " 'dijo',\n",
       " 'desastre',\n",
       " 'demas',\n",
       " 'dado',\n",
       " 'campana',\n",
       " 'calles',\n",
       " 'bonito',\n",
       " 'bastante',\n",
       " 'bajo',\n",
       " 'autor',\n",
       " 'analisis',\n",
       " 'adolescente',\n",
       " 'ademas',\n",
       " 'tantas',\n",
       " 'simplemente',\n",
       " 'sigo',\n",
       " 'senora',\n",
       " 'religion',\n",
       " 'puesto',\n",
       " 'premio',\n",
       " 'placer',\n",
       " 'parlamento',\n",
       " 'palabra',\n",
       " 'nueva',\n",
       " 'mujeres',\n",
       " 'malo',\n",
       " 'incluso',\n",
       " 'iba',\n",
       " 'habeis',\n",
       " 'fracaso',\n",
       " 'entonces',\n",
       " 'emocion',\n",
       " 'defensa',\n",
       " 'danos',\n",
       " 'cuba',\n",
       " 'cono',\n",
       " 'clima',\n",
       " 'celebra',\n",
       " 'vuelve',\n",
       " 'valor',\n",
       " 'ultimas',\n",
       " 'triunfo',\n",
       " 'tremendo',\n",
       " 'titulos',\n",
       " 'tipo',\n",
       " 'termina',\n",
       " 'templo',\n",
       " 'sale',\n",
       " 'resumen',\n",
       " 'respuesta',\n",
       " 'recordar',\n",
       " 'pompeo',\n",
       " 'pienso',\n",
       " 'papa',\n",
       " 'oposicion',\n",
       " 'monumento',\n",
       " 'minuto',\n",
       " 'mexico',\n",
       " 'meses',\n",
       " 'mayor',\n",
       " 'loco',\n",
       " 'lista',\n",
       " 'ligas',\n",
       " 'libres',\n",
       " 'has',\n",
       " 'golpistas',\n",
       " 'europeo',\n",
       " 'diputados',\n",
       " 'dicho',\n",
       " 'destruccion',\n",
       " 'dembele',\n",
       " 'dejado',\n",
       " 'deberia',\n",
       " 'conocer',\n",
       " 'champions',\n",
       " 'centro',\n",
       " 'celebramos',\n",
       " 'caminantes',\n",
       " 'cabeza',\n",
       " 'arbitro',\n",
       " 'ama',\n",
       " 'aca',\n",
       " '20',\n",
       " '100',\n",
       " 'vive',\n",
       " 'viajar',\n",
       " 'vas',\n",
       " 'valverde',\n",
       " 'total',\n",
       " 'tampoco',\n",
       " 'sacar',\n",
       " 'reconstruccion',\n",
       " 'razon',\n",
       " 'pelicula',\n",
       " 'pedro',\n",
       " 'ocurrido',\n",
       " 'nota',\n",
       " 'nombre',\n",
       " 'ninas',\n",
       " 'mundiales',\n",
       " 'miles',\n",
       " 'luchar',\n",
       " 'llego',\n",
       " 'lejos',\n",
       " 'lastima',\n",
       " 'junto',\n",
       " 'informacion',\n",
       " 'iglesias',\n",
       " 'historica',\n",
       " 'hermosa',\n",
       " 'fiesta',\n",
       " 'extrema',\n",
       " 'epoca',\n",
       " 'epico',\n",
       " 'enfrentar',\n",
       " 'encanta',\n",
       " 'duelo',\n",
       " 'dictadura',\n",
       " 'desgracia',\n",
       " 'debemos',\n",
       " 'climatica',\n",
       " 'caracas',\n",
       " 'capitulazo',\n",
       " 'camino',\n",
       " 'atletico',\n",
       " 'aquellos',\n",
       " 'alla',\n",
       " 'adultos',\n",
       " '9',\n",
       " 'x',\n",
       " 'viviendo',\n",
       " 'usted',\n",
       " 'tremenda',\n",
       " 'traves',\n",
       " 'tomar',\n",
       " 'ti',\n",
       " 'sufrir',\n",
       " 'sucedido',\n",
       " 'solidaridad',\n",
       " 'sola',\n",
       " 'sistema',\n",
       " 'silencio',\n",
       " 'santa',\n",
       " 'san',\n",
       " 'saben',\n",
       " 'quieres',\n",
       " 'puedes',\n",
       " 'proximo',\n",
       " 'pregunta',\n",
       " 'pequeno',\n",
       " 'penal',\n",
       " 'obras',\n",
       " 'ninguna',\n",
       " 'mujer',\n",
       " 'mio',\n",
       " 'llorando',\n",
       " 'llamado',\n",
       " 'leopoldo',\n",
       " 'ideas',\n",
       " 'icono',\n",
       " 'hubiera',\n",
       " 'hermanos',\n",
       " 'francesa',\n",
       " 'fascismo',\n",
       " 'espectacular',\n",
       " 'encuentro',\n",
       " 'embargo',\n",
       " 'diferencia',\n",
       " 'deseo',\n",
       " 'dejan',\n",
       " 'culpa',\n",
       " 'conseguido',\n",
       " 'cobarde',\n",
       " 'clase',\n",
       " 'cambiar',\n",
       " 'amenaza',\n",
       " 'algunas',\n",
       " 'acuerdo',\n",
       " '7',\n",
       " 'voz',\n",
       " 'vosotros',\n",
       " 'visita',\n",
       " 'vidas',\n",
       " 'verdadero',\n",
       " 'valladolid',\n",
       " 'tuvo',\n",
       " 'tierra',\n",
       " 'teneis',\n",
       " 'social',\n",
       " 'siguen',\n",
       " 'shock',\n",
       " 'senores',\n",
       " 'representa',\n",
       " 'recuerda',\n",
       " 'recomiendo',\n",
       " 'pueda',\n",
       " 'politico',\n",
       " 'pierde',\n",
       " 'perdio',\n",
       " 'perdidas',\n",
       " 'pantalla',\n",
       " 'opinion',\n",
       " 'ole',\n",
       " 'musica',\n",
       " 'mentiras',\n",
       " 'memoria',\n",
       " 'lider',\n",
       " 'ley',\n",
       " 'juntos',\n",
       " 'interior',\n",
       " 'idea',\n",
       " 'hilo',\n",
       " 'hambre',\n",
       " 'gusto',\n",
       " 'estados',\n",
       " 'esperando',\n",
       " 'escrutinio',\n",
       " 'eran',\n",
       " 'encuentra',\n",
       " 'empieza',\n",
       " 'edificio',\n",
       " 'duele',\n",
       " 'directo',\n",
       " 'demasiado',\n",
       " 'defender',\n",
       " 'culo',\n",
       " 'critica',\n",
       " 'consigue',\n",
       " 'club',\n",
       " 'celebrando',\n",
       " 'blancos',\n",
       " 'belleza',\n",
       " 'accion',\n",
       " '23',\n",
       " 'vuestro',\n",
       " 'vidal',\n",
       " 'viaje',\n",
       " 'verlo',\n",
       " 'vencer',\n",
       " 'vemos',\n",
       " 'varios',\n",
       " 'var',\n",
       " 'unidos',\n",
       " 'trabajar',\n",
       " 'toca',\n",
       " 'tienes',\n",
       " 'solucion',\n",
       " 'siga',\n",
       " 'segunda',\n",
       " 'salido',\n",
       " 'sabemos',\n",
       " 'perdon',\n",
       " 'pedir',\n",
       " 'pasara',\n",
       " 'parisinos',\n",
       " 'oscuridad',\n",
       " 'nuevamente',\n",
       " 'nacion',\n",
       " 'mitad',\n",
       " 'mismos',\n",
       " 'media',\n",
       " 'luto',\n",
       " 'lopez',\n",
       " 'larga',\n",
       " 'lagrimas',\n",
       " 'jugadores',\n",
       " 'interesante',\n",
       " 'humanos',\n",
       " 'hola',\n",
       " 'hagan',\n",
       " 'hacerlo',\n",
       " 'grito',\n",
       " 'fracasado',\n",
       " 'existe',\n",
       " 'esperamos',\n",
       " 'esperaba',\n",
       " 'espera',\n",
       " 'destruir',\n",
       " 'demuestra',\n",
       " 'dejen',\n",
       " 'deben',\n",
       " 'cuidado',\n",
       " 'cuantos',\n",
       " 'corona',\n",
       " 'conoce',\n",
       " 'comunidad',\n",
       " 'calidad',\n",
       " 'apoyando',\n",
       " 'apoya',\n",
       " 'apenas',\n",
       " 'amarilla',\n",
       " 'alegria',\n",
       " 'acciones',\n",
       " 'acabar',\n",
       " 'veremos',\n",
       " 'tristes',\n",
       " 'trata',\n",
       " 'super',\n",
       " 'sos',\n",
       " 'sois',\n",
       " 'salvado',\n",
       " 'rusos',\n",
       " 'quedan',\n",
       " 'principio',\n",
       " 'preocupa',\n",
       " 'plaza',\n",
       " 'plan',\n",
       " 'piensa',\n",
       " 'pa',\n",
       " 'oscura',\n",
       " 'oro',\n",
       " 'octava',\n",
       " 'objetivo',\n",
       " 'novela',\n",
       " 'normal',\n",
       " 'miercoles',\n",
       " 'marcha',\n",
       " 'maravilla',\n",
       " 'llegado',\n",
       " 'lideres',\n",
       " 'levantamiento',\n",
       " 'jorge',\n",
       " 'izquierdas',\n",
       " 'irse',\n",
       " 'ignorancia',\n",
       " 'humano',\n",
       " 'hicieron',\n",
       " 'gustaria',\n",
       " 'golpista',\n",
       " 'gobernar',\n",
       " 'general',\n",
       " 'fan',\n",
       " 'europea',\n",
       " 'escena',\n",
       " 'emociones',\n",
       " 'edad',\n",
       " 'disfrutando',\n",
       " 'diga',\n",
       " 'devastador',\n",
       " 'darle',\n",
       " 'd',\n",
       " 'cubanos',\n",
       " 'cuatro',\n",
       " 'copa',\n",
       " 'constitucion',\n",
       " 'conciencia',\n",
       " 'capitulos',\n",
       " 'bonita',\n",
       " 'bandera',\n",
       " 'balon',\n",
       " 'ayuda',\n",
       " 'atras',\n",
       " 'asilo',\n",
       " 'arquitectonica',\n",
       " 'armas',\n",
       " 'amigo',\n",
       " 'adelante',\n",
       " 'acabe',\n",
       " 'absolutamente',\n",
       " 'abascal',\n",
       " '13',\n",
       " 'vence',\n",
       " 'ultraderecha',\n",
       " 'termine',\n",
       " 'tenga',\n",
       " ...]"
      ]
     },
     "execution_count": 27,
     "metadata": {},
     "output_type": "execute_result"
    }
   ],
   "source": [
    "#Words in the adapted vectorizer (vocabulary)\n",
    "vectorizer.get_vocabulary()"
   ]
  },
  {
   "cell_type": "code",
   "execution_count": 28,
   "metadata": {
    "colab": {
     "base_uri": "https://localhost:8080/"
    },
    "id": "L37norK4-5fV",
    "outputId": "59d87190-396d-49b6-b9eb-0746fc5e8c14"
   },
   "outputs": [
    {
     "name": "stdout",
     "output_type": "stream",
     "text": [
      "(5885, 1800) (857, 1800) (5885, 7) (857, 7)\n"
     ]
    }
   ],
   "source": [
    "X_train_vectorized_text = vectorizer(X_train.values)\n",
    "X_valid_vectorized_text = vectorizer(X_valid.values)\n",
    "\n",
    "print(X_train_vectorized_text.shape, X_valid_vectorized_text.shape, y_train.shape, y_valid.shape)"
   ]
  },
  {
   "cell_type": "code",
   "execution_count": 53,
   "metadata": {
    "colab": {
     "base_uri": "https://localhost:8080/"
    },
    "id": "or5ksihbfeaf",
    "outputId": "cd83626e-4e64-45d3-bf2a-833e19961011"
   },
   "outputs": [
    {
     "data": {
      "text/plain": [
       "<tf.Tensor: shape=(1800,), dtype=int64, numpy=array([   6,  759, 6706, ...,    0,    0,    0])>"
      ]
     },
     "execution_count": 53,
     "metadata": {},
     "output_type": "execute_result"
    }
   ],
   "source": [
    "X_train_vectorized_text[0]"
   ]
  },
  {
   "cell_type": "markdown",
   "metadata": {
    "id": "cuF-3UmcG5oj"
   },
   "source": [
    "# 3. Create Model (NN Architecture)"
   ]
  },
  {
   "cell_type": "code",
   "execution_count": 73,
   "metadata": {
    "id": "t7-Rz_L1_giB"
   },
   "outputs": [],
   "source": [
    "from tensorflow.keras.models import Sequential\n",
    "from tensorflow.keras.layers import LSTM, Bidirectional, Dense, Embedding\n",
    "\n",
    "from tensorflow.keras.utils import plot_model"
   ]
  },
  {
   "cell_type": "code",
   "execution_count": 97,
   "metadata": {
    "id": "AyqAMqXLbu8_"
   },
   "outputs": [],
   "source": [
    "from tensorflow.keras.callbacks import EarlyStopping\n",
    "\n",
    "early_stopping = EarlyStopping(\n",
    "    min_delta=0.001, # minimium amount of change to count as an improvement\n",
    "    patience=5, # how many epochs to wait before stopping\n",
    "    restore_best_weights=True,\n",
    ")"
   ]
  },
  {
   "cell_type": "code",
   "execution_count": 111,
   "metadata": {
    "id": "hsG2SCjtHUD6"
   },
   "outputs": [],
   "source": [
    "model = Sequential()\n",
    "# Create the embedding layer \n",
    "model.add(Embedding(MAX_FEATURES+1, 32))\n",
    "# Bidirectional LSTM Layer\n",
    "model.add(Bidirectional(LSTM(32, activation='tanh')))\n",
    "# Feature extractor Fully connected layers\n",
    "model.add(Dense(128, activation='relu'))\n",
    "model.add(Dense(256, activation='relu'))\n",
    "model.add(Dense(128, activation='relu'))\n",
    "# Final layer \n",
    "model.add(Dense(7, activation='sigmoid'))"
   ]
  },
  {
   "cell_type": "code",
   "execution_count": 112,
   "metadata": {
    "id": "whhv_RlQHXgW"
   },
   "outputs": [],
   "source": [
    "model.compile(loss='BinaryCrossentropy', optimizer='Adam', metrics=['binary_accuracy'])"
   ]
  },
  {
   "cell_type": "code",
   "execution_count": 113,
   "metadata": {
    "colab": {
     "base_uri": "https://localhost:8080/"
    },
    "id": "phg_r901Hjs0",
    "outputId": "856facd7-13a4-4c2c-f3c3-0068231d2f3a"
   },
   "outputs": [
    {
     "name": "stdout",
     "output_type": "stream",
     "text": [
      "Model: \"sequential_11\"\n",
      "_________________________________________________________________\n",
      " Layer (type)                Output Shape              Param #   \n",
      "=================================================================\n",
      " embedding_11 (Embedding)    (None, None, 32)          6400032   \n",
      "                                                                 \n",
      " bidirectional_11 (Bidirecti  (None, 64)               16640     \n",
      " onal)                                                           \n",
      "                                                                 \n",
      " dense_45 (Dense)            (None, 128)               8320      \n",
      "                                                                 \n",
      " dense_46 (Dense)            (None, 256)               33024     \n",
      "                                                                 \n",
      " dense_47 (Dense)            (None, 128)               32896     \n",
      "                                                                 \n",
      " dense_48 (Dense)            (None, 7)                 903       \n",
      "                                                                 \n",
      "=================================================================\n",
      "Total params: 6,491,815\n",
      "Trainable params: 6,491,815\n",
      "Non-trainable params: 0\n",
      "_________________________________________________________________\n"
     ]
    }
   ],
   "source": [
    "model.summary()"
   ]
  },
  {
   "cell_type": "code",
   "execution_count": 114,
   "metadata": {
    "colab": {
     "base_uri": "https://localhost:8080/",
     "height": 754
    },
    "id": "4aeABqyeh2vJ",
    "outputId": "550a1cd9-473a-418d-dd5e-3389ce8fcd81"
   },
   "outputs": [
    {
     "data": {
      "image/jpeg": "[encoded data removed]",
      "text/plain": [
       "<IPython.core.display.Image object>"
      ]
     },
     "execution_count": 114,
     "metadata": {},
     "output_type": "execute_result"
    }
   ],
   "source": [
    "plot_model(model, to_file = 'model.jpg' , show_shapes=True)"
   ]
  },
  {
   "cell_type": "code",
   "execution_count": 115,
   "metadata": {
    "colab": {
     "base_uri": "https://localhost:8080/"
    },
    "id": "3swbkzGkHmLi",
    "outputId": "e0f2ccde-7a1b-48a6-9c31-67e78b8eec38"
   },
   "outputs": [
    {
     "name": "stdout",
     "output_type": "stream",
     "text": [
      "Epoch 1/30\n",
      "184/184 [==============================] - 22s 102ms/step - loss: 0.3436 - binary_accuracy: 0.8581 - val_loss: 0.2994 - val_binary_accuracy: 0.8758\n",
      "Epoch 2/30\n",
      "184/184 [==============================] - 18s 98ms/step - loss: 0.2684 - binary_accuracy: 0.8932 - val_loss: 0.2788 - val_binary_accuracy: 0.8900\n",
      "Epoch 3/30\n",
      "184/184 [==============================] - 18s 98ms/step - loss: 0.2157 - binary_accuracy: 0.9139 - val_loss: 0.2973 - val_binary_accuracy: 0.8875\n",
      "Epoch 4/30\n",
      "184/184 [==============================] - 19s 102ms/step - loss: 0.1706 - binary_accuracy: 0.9314 - val_loss: 0.3286 - val_binary_accuracy: 0.8660\n",
      "Epoch 5/30\n",
      "184/184 [==============================] - 18s 98ms/step - loss: 0.1329 - binary_accuracy: 0.9496 - val_loss: 0.3532 - val_binary_accuracy: 0.8821\n",
      "Epoch 6/30\n",
      "184/184 [==============================] - 18s 98ms/step - loss: 0.1043 - binary_accuracy: 0.9622 - val_loss: 0.4021 - val_binary_accuracy: 0.8790\n",
      "Epoch 7/30\n",
      "184/184 [==============================] - 18s 98ms/step - loss: 0.0861 - binary_accuracy: 0.9689 - val_loss: 0.4613 - val_binary_accuracy: 0.8773\n"
     ]
    }
   ],
   "source": [
    "history = model.fit(X_train_vectorized_text,\n",
    "                    y_train,\n",
    "                    validation_data=(X_valid_vectorized_text, y_valid),\n",
    "                    epochs=30,\n",
    "                    callbacks=[early_stopping],\n",
    "                    )"
   ]
  },
  {
   "cell_type": "markdown",
   "metadata": {
    "id": "Q_BYZrCxRqVP"
   },
   "source": [
    "# 4. Result"
   ]
  },
  {
   "cell_type": "code",
   "execution_count": 116,
   "metadata": {
    "id": "biuG7hqHRkTj"
   },
   "outputs": [],
   "source": [
    "from matplotlib import pyplot as plt"
   ]
  },
  {
   "cell_type": "code",
   "execution_count": 117,
   "metadata": {
    "colab": {
     "base_uri": "https://localhost:8080/",
     "height": 548
    },
    "id": "FSxEVNdgRk5X",
    "outputId": "c45c43c8-db06-4591-c8d5-777b290cd941"
   },
   "outputs": [
    {
     "name": "stdout",
     "output_type": "stream",
     "text": [
      "Best Validation Loss: 0.2788\n",
      "Best Validation Accuracy: 0.8900\n"
     ]
    },
    {
     "data": {
      "image/png": "[encoded data removed]",
      "text/plain": [
       "<Figure size 432x288 with 1 Axes>"
      ]
     },
     "metadata": {
      "needs_background": "light"
     },
     "output_type": "display_data"
    },
    {
     "data": {
      "image/png": "[encoded data removed]",
      "text/plain": [
       "<Figure size 432x288 with 1 Axes>"
      ]
     },
     "metadata": {
      "needs_background": "light"
     },
     "output_type": "display_data"
    }
   ],
   "source": [
    "history_df = pd.DataFrame(history.history)\n",
    "history_df.loc[:, ['loss', 'val_loss']].plot()\n",
    "history_df.loc[:, ['binary_accuracy', 'val_binary_accuracy']].plot()\n",
    "\n",
    "print((\"Best Validation Loss: {:0.4f}\" +\\\n",
    "      \"\\nBest Validation Accuracy: {:0.4f}\")\\\n",
    "      .format(history_df['val_loss'].min(), \n",
    "              history_df['val_binary_accuracy'].max()))"
   ]
  }
 ],
 "metadata": {
  "accelerator": "GPU",
  "colab": {
   "collapsed_sections": [],
   "name": "SLF4SA.ipynb",
   "provenance": []
  },
  "kernelspec": {
   "display_name": "Python 3 (ipykernel)",
   "language": "python",
   "name": "python3"
  },
  "language_info": {
   "codemirror_mode": {
    "name": "ipython",
    "version": 3
   },
   "file_extension": ".py",
   "mimetype": "text/x-python",
   "name": "python",
   "nbconvert_exporter": "python",
   "pygments_lexer": "ipython3",
   "version": "3.9.7"
  }
 },
 "nbformat": 4,
 "nbformat_minor": 1
}
